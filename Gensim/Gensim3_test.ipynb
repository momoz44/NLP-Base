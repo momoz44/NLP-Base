{
 "cells": [
  {
   "cell_type": "code",
   "execution_count": 1,
   "metadata": {
    "collapsed": true
   },
   "outputs": [],
   "source": [
    "from gensim.models import Word2Vec\n",
    "from gensim.models.word2vec import LineSentence"
   ]
  },
  {
   "cell_type": "code",
   "execution_count": 2,
   "metadata": {
    "collapsed": true
   },
   "outputs": [],
   "source": [
    "model = Word2Vec.load(\"word_embedding_128\")"
   ]
  },
  {
   "cell_type": "code",
   "execution_count": 3,
   "metadata": {},
   "outputs": [
    {
     "data": {
      "text/plain": [
       "[('智能手机', 0.7378441691398621),\n",
       " ('pda', 0.7148129940032959),\n",
       " ('笔记型电脑', 0.7079244256019592),\n",
       " ('iphone', 0.7025782465934753),\n",
       " ('app', 0.6947654485702515),\n",
       " ('笔记本电脑', 0.6856313943862915),\n",
       " ('手提', 0.6825976371765137),\n",
       " ('短讯', 0.6776818037033081),\n",
       " ('遥控器', 0.6750036478042603),\n",
       " ('电话', 0.6692689657211304)]"
      ]
     },
     "execution_count": 3,
     "metadata": {},
     "output_type": "execute_result"
    }
   ],
   "source": [
    "model.most_similar(u'手机')"
   ]
  },
  {
   "cell_type": "code",
   "execution_count": 8,
   "metadata": {},
   "outputs": [
    {
     "data": {
      "text/plain": [
       "0.29586512263435166"
      ]
     },
     "execution_count": 8,
     "metadata": {},
     "output_type": "execute_result"
    }
   ],
   "source": [
    "model.similarity(u'空间', u'办公')"
   ]
  },
  {
   "cell_type": "code",
   "execution_count": null,
   "metadata": {
    "collapsed": true
   },
   "outputs": [],
   "source": [
    "model.most_similar(u'技术咨询')"
   ]
  },
  {
   "cell_type": "code",
   "execution_count": null,
   "metadata": {
    "collapsed": true
   },
   "outputs": [],
   "source": [
    "model.wv['企业']"
   ]
  },
  {
   "cell_type": "code",
   "execution_count": 5,
   "metadata": {},
   "outputs": [
    {
     "data": {
      "text/plain": [
       "[('queen', 0.6482797861099243),\n",
       " ('mistress', 0.6291517019271851),\n",
       " ('prince', 0.6246988773345947),\n",
       " ('kings', 0.6245244145393372),\n",
       " ('queens', 0.6062690019607544),\n",
       " ('bride', 0.6034589409828186),\n",
       " ('princess', 0.6024281978607178),\n",
       " ('duchess', 0.5956497192382812),\n",
       " ('mother', 0.5930827856063843),\n",
       " ('基瑙', 0.5861629247665405)]"
      ]
     },
     "execution_count": 5,
     "metadata": {},
     "output_type": "execute_result"
    }
   ],
   "source": [
    "model.wv.most_similar(positive=['woman', 'king'], negative=['man'])"
   ]
  },
  {
   "cell_type": "code",
   "execution_count": 6,
   "metadata": {},
   "outputs": [
    {
     "data": {
      "text/plain": [
       "[('皇太后', 0.6814358234405518),\n",
       " ('太上皇', 0.6534421443939209),\n",
       " ('太后', 0.6456448435783386),\n",
       " ('太皇太后', 0.6209933757781982),\n",
       " ('君主', 0.6185449361801147),\n",
       " ('摄政王', 0.6107487678527832),\n",
       " ('垂帘听政', 0.6081205606460571),\n",
       " ('清帝', 0.607276976108551),\n",
       " ('嫔妃', 0.6017159223556519),\n",
       " ('皇后', 0.5984610915184021)]"
      ]
     },
     "execution_count": 6,
     "metadata": {},
     "output_type": "execute_result"
    }
   ],
   "source": [
    "model.wv.most_similar(positive=[u'女人', u'皇帝'], negative=[u'男人'])"
   ]
  },
  {
   "cell_type": "code",
   "execution_count": 7,
   "metadata": {},
   "outputs": [
    {
     "data": {
      "text/plain": [
       "'芹菜'"
      ]
     },
     "execution_count": 7,
     "metadata": {},
     "output_type": "execute_result"
    }
   ],
   "source": [
    "model.wv.doesnt_match(u\"牡丹 月季 芹菜 杜鹃\".split())"
   ]
  },
  {
   "cell_type": "code",
   "execution_count": 14,
   "metadata": {},
   "outputs": [
    {
     "data": {
      "text/plain": [
       "{'syn0': 352190976,\n",
       " 'syn1neg': 352190976,\n",
       " 'total': 1048318452,\n",
       " 'vocab': 343936500}"
      ]
     },
     "execution_count": 14,
     "metadata": {},
     "output_type": "execute_result"
    }
   ],
   "source": [
    "model.estimate_memory(vocab_size=None, report=None)"
   ]
  },
  {
   "cell_type": "code",
   "execution_count": null,
   "metadata": {
    "collapsed": true
   },
   "outputs": [],
   "source": []
  }
 ],
 "metadata": {
  "kernelspec": {
   "display_name": "Python 3",
   "language": "python",
   "name": "python3"
  },
  "language_info": {
   "codemirror_mode": {
    "name": "ipython",
    "version": 3
   },
   "file_extension": ".py",
   "mimetype": "text/x-python",
   "name": "python",
   "nbconvert_exporter": "python",
   "pygments_lexer": "ipython3",
   "version": "3.6.1"
  }
 },
 "nbformat": 4,
 "nbformat_minor": 2
}
